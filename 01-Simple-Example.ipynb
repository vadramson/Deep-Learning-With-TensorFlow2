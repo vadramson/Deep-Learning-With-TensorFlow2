{
 "cells": [
  {
   "cell_type": "markdown",
   "metadata": {},
   "source": [
    "# Import Relevant Libraries"
   ]
  },
  {
   "cell_type": "code",
   "execution_count": 1,
   "metadata": {},
   "outputs": [],
   "source": [
    "import numpy as np\n",
    "import pandas as pd\n",
    "import matplotlib.pyplot as plt\n",
    "# import seab as sns\n",
    "from mpl_toolkits.mplot3d import Axes3D\n",
    "# sns.set()"
   ]
  },
  {
   "cell_type": "markdown",
   "metadata": {},
   "source": [
    "### Generating Random Input Data to Train on."
   ]
  },
  {
   "cell_type": "code",
   "execution_count": 37,
   "metadata": {},
   "outputs": [
    {
     "data": {
      "text/plain": [
       "array([[ 4.25335844, -0.67735744],\n",
       "       [-3.85416195,  1.43167467],\n",
       "       [-1.55826739, -3.52574713],\n",
       "       ...,\n",
       "       [ 8.1684277 ,  5.79959737],\n",
       "       [-3.43150903,  3.15225613],\n",
       "       [ 5.74572158, -6.63519693]])"
      ]
     },
     "execution_count": 37,
     "metadata": {},
     "output_type": "execute_result"
    }
   ],
   "source": [
    "observations = 1000\n",
    "xs = np.random.uniform(low=-10, high=10, size=(observations,1))\n",
    "zs = np.random.uniform(-10, 10, (observations,1))\n",
    "\n",
    "inputs = np.column_stack((xs,zs))\n",
    "inputs"
   ]
  },
  {
   "cell_type": "markdown",
   "metadata": {},
   "source": [
    "### Generating Targets to Aim at"
   ]
  },
  {
   "cell_type": "markdown",
   "metadata": {},
   "source": [
    "**I want to \"make up\" a function f(xs,zs), use the ML methodology, and see if the algorithm has learned it.**\n",
    "\n",
    "_f(xs,zs) = 2xs - 3zs + 5 + noise_"
   ]
  },
  {
   "cell_type": "code",
   "execution_count": 38,
   "metadata": {
    "code_folding": []
   },
   "outputs": [
    {
     "data": {
      "text/plain": [
       "(1000, 1)"
      ]
     },
     "execution_count": 38,
     "metadata": {},
     "output_type": "execute_result"
    }
   ],
   "source": [
    "# I am going to add some noise to the data so as to randomize it\n",
    "\n",
    "noise = np.random.uniform(-1, 1, (observations,1))\n",
    "noise.shape"
   ]
  },
  {
   "cell_type": "code",
   "execution_count": 39,
   "metadata": {},
   "outputs": [
    {
     "data": {
      "text/plain": [
       "(1000, 1)"
      ]
     },
     "execution_count": 39,
     "metadata": {},
     "output_type": "execute_result"
    }
   ],
   "source": [
    "# Produce the targets according to the f(x,z) = 2x - 3z + 5 + noise definition.\n",
    "# I am basically saying: the weights should be 2 and -3, while the bias is 5.\n",
    "\n",
    "targets = 2*xs - 3*zs + 5 + noise\n",
    "targets.shape"
   ]
  },
  {
   "cell_type": "markdown",
   "metadata": {},
   "source": [
    "### Ploting the Training Data"
   ]
  },
  {
   "cell_type": "code",
   "execution_count": 42,
   "metadata": {},
   "outputs": [
    {
     "ename": "ValueError",
     "evalue": "operands could not be broadcast together with remapped shapes [original->remapped]: (1000,) and requested shape (1000,1)",
     "output_type": "error",
     "traceback": [
      "\u001b[1;31m---------------------------------------------------------------------------\u001b[0m",
      "\u001b[1;31mValueError\u001b[0m                                Traceback (most recent call last)",
      "\u001b[1;32m<ipython-input-42-58ce4d6ba6b9>\u001b[0m in \u001b[0;36m<module>\u001b[1;34m\u001b[0m\n\u001b[0;32m     12\u001b[0m \u001b[1;33m\u001b[0m\u001b[0m\n\u001b[0;32m     13\u001b[0m \u001b[1;31m# Choose the axes.\u001b[0m\u001b[1;33m\u001b[0m\u001b[1;33m\u001b[0m\u001b[1;33m\u001b[0m\u001b[0m\n\u001b[1;32m---> 14\u001b[1;33m \u001b[0max\u001b[0m\u001b[1;33m.\u001b[0m\u001b[0mplot\u001b[0m\u001b[1;33m(\u001b[0m\u001b[0mxs\u001b[0m\u001b[1;33m,\u001b[0m \u001b[0mzs\u001b[0m\u001b[1;33m,\u001b[0m \u001b[0mtargets\u001b[0m\u001b[1;33m)\u001b[0m\u001b[1;33m\u001b[0m\u001b[1;33m\u001b[0m\u001b[0m\n\u001b[0m\u001b[0;32m     15\u001b[0m \u001b[1;33m\u001b[0m\u001b[0m\n\u001b[0;32m     16\u001b[0m \u001b[1;31m# Set labels\u001b[0m\u001b[1;33m\u001b[0m\u001b[1;33m\u001b[0m\u001b[1;33m\u001b[0m\u001b[0m\n",
      "\u001b[1;32m~\\AppData\\Local\\Programs\\Python\\Python39\\lib\\site-packages\\mpl_toolkits\\mplot3d\\axes3d.py\u001b[0m in \u001b[0;36mplot\u001b[1;34m(self, xs, ys, zdir, *args, **kwargs)\u001b[0m\n\u001b[0;32m   1467\u001b[0m \u001b[1;33m\u001b[0m\u001b[0m\n\u001b[0;32m   1468\u001b[0m         \u001b[1;31m# Match length\u001b[0m\u001b[1;33m\u001b[0m\u001b[1;33m\u001b[0m\u001b[1;33m\u001b[0m\u001b[0m\n\u001b[1;32m-> 1469\u001b[1;33m         \u001b[0mzs\u001b[0m \u001b[1;33m=\u001b[0m \u001b[0mnp\u001b[0m\u001b[1;33m.\u001b[0m\u001b[0mbroadcast_to\u001b[0m\u001b[1;33m(\u001b[0m\u001b[0mzs\u001b[0m\u001b[1;33m,\u001b[0m \u001b[0mnp\u001b[0m\u001b[1;33m.\u001b[0m\u001b[0mshape\u001b[0m\u001b[1;33m(\u001b[0m\u001b[0mxs\u001b[0m\u001b[1;33m)\u001b[0m\u001b[1;33m)\u001b[0m\u001b[1;33m\u001b[0m\u001b[1;33m\u001b[0m\u001b[0m\n\u001b[0m\u001b[0;32m   1470\u001b[0m \u001b[1;33m\u001b[0m\u001b[0m\n\u001b[0;32m   1471\u001b[0m         \u001b[0mlines\u001b[0m \u001b[1;33m=\u001b[0m \u001b[0msuper\u001b[0m\u001b[1;33m(\u001b[0m\u001b[1;33m)\u001b[0m\u001b[1;33m.\u001b[0m\u001b[0mplot\u001b[0m\u001b[1;33m(\u001b[0m\u001b[0mxs\u001b[0m\u001b[1;33m,\u001b[0m \u001b[0mys\u001b[0m\u001b[1;33m,\u001b[0m \u001b[1;33m*\u001b[0m\u001b[0margs\u001b[0m\u001b[1;33m,\u001b[0m \u001b[1;33m**\u001b[0m\u001b[0mkwargs\u001b[0m\u001b[1;33m)\u001b[0m\u001b[1;33m\u001b[0m\u001b[1;33m\u001b[0m\u001b[0m\n",
      "\u001b[1;32m<__array_function__ internals>\u001b[0m in \u001b[0;36mbroadcast_to\u001b[1;34m(*args, **kwargs)\u001b[0m\n",
      "\u001b[1;32m~\\AppData\\Local\\Programs\\Python\\Python39\\lib\\site-packages\\numpy\\lib\\stride_tricks.py\u001b[0m in \u001b[0;36mbroadcast_to\u001b[1;34m(array, shape, subok)\u001b[0m\n\u001b[0;32m    178\u001b[0m            [1, 2, 3]])\n\u001b[0;32m    179\u001b[0m     \"\"\"\n\u001b[1;32m--> 180\u001b[1;33m     \u001b[1;32mreturn\u001b[0m \u001b[0m_broadcast_to\u001b[0m\u001b[1;33m(\u001b[0m\u001b[0marray\u001b[0m\u001b[1;33m,\u001b[0m \u001b[0mshape\u001b[0m\u001b[1;33m,\u001b[0m \u001b[0msubok\u001b[0m\u001b[1;33m=\u001b[0m\u001b[0msubok\u001b[0m\u001b[1;33m,\u001b[0m \u001b[0mreadonly\u001b[0m\u001b[1;33m=\u001b[0m\u001b[1;32mTrue\u001b[0m\u001b[1;33m)\u001b[0m\u001b[1;33m\u001b[0m\u001b[1;33m\u001b[0m\u001b[0m\n\u001b[0m\u001b[0;32m    181\u001b[0m \u001b[1;33m\u001b[0m\u001b[0m\n\u001b[0;32m    182\u001b[0m \u001b[1;33m\u001b[0m\u001b[0m\n",
      "\u001b[1;32m~\\AppData\\Local\\Programs\\Python\\Python39\\lib\\site-packages\\numpy\\lib\\stride_tricks.py\u001b[0m in \u001b[0;36m_broadcast_to\u001b[1;34m(array, shape, subok, readonly)\u001b[0m\n\u001b[0;32m    121\u001b[0m                          'negative')\n\u001b[0;32m    122\u001b[0m     \u001b[0mextras\u001b[0m \u001b[1;33m=\u001b[0m \u001b[1;33m[\u001b[0m\u001b[1;33m]\u001b[0m\u001b[1;33m\u001b[0m\u001b[1;33m\u001b[0m\u001b[0m\n\u001b[1;32m--> 123\u001b[1;33m     it = np.nditer(\n\u001b[0m\u001b[0;32m    124\u001b[0m         \u001b[1;33m(\u001b[0m\u001b[0marray\u001b[0m\u001b[1;33m,\u001b[0m\u001b[1;33m)\u001b[0m\u001b[1;33m,\u001b[0m \u001b[0mflags\u001b[0m\u001b[1;33m=\u001b[0m\u001b[1;33m[\u001b[0m\u001b[1;34m'multi_index'\u001b[0m\u001b[1;33m,\u001b[0m \u001b[1;34m'refs_ok'\u001b[0m\u001b[1;33m,\u001b[0m \u001b[1;34m'zerosize_ok'\u001b[0m\u001b[1;33m]\u001b[0m \u001b[1;33m+\u001b[0m \u001b[0mextras\u001b[0m\u001b[1;33m,\u001b[0m\u001b[1;33m\u001b[0m\u001b[1;33m\u001b[0m\u001b[0m\n\u001b[0;32m    125\u001b[0m         op_flags=['readonly'], itershape=shape, order='C')\n",
      "\u001b[1;31mValueError\u001b[0m: operands could not be broadcast together with remapped shapes [original->remapped]: (1000,) and requested shape (1000,1)"
     ]
    },
    {
     "data": {
      "image/png": "[encoded data removed]",
      "text/plain": [
       "<Figure size 432x288 with 1 Axes>"
      ]
     },
     "metadata": {
      "needs_background": "light"
     },
     "output_type": "display_data"
    }
   ],
   "source": [
    "# In order to use the 3D plot, the objects should have a certain shape, so the targets must be reshape\n",
    "# The proper method to use is reshape and takes as arguments the dimensions in which we want to fit the object.\n",
    "targets = targets.reshape(observations,)\n",
    "\n",
    "# Plotting according to the conventional matplotlib.pyplot syntax\n",
    "\n",
    "# Declaring the figure\n",
    "fig = plt.figure()\n",
    "\n",
    "# A method necessary creating the 3D plot\n",
    "ax = fig.add_subplot(111, projection='3d')\n",
    "\n",
    "# Choose the axes.\n",
    "ax.plot(xs, zs, targets)\n",
    "\n",
    "# Set labels\n",
    "ax.set_xlabel('xs')\n",
    "ax.set_ylabel('zs')\n",
    "ax.set_zlabel('Targets')\n",
    "\n",
    "# The azim parameter can be modified to plot the data from different angles. \n",
    "# By change the value of azim=100\n",
    "# to azim = 0 ; azim = 200, or whatever.\n",
    "ax.view_init(azim=100)\n",
    "\n",
    "# Display the generated plot\n",
    "plt.show()\n",
    "\n",
    "# Reshape the targets back to the shapes they were in before plotting.\n",
    "# This reshaping is a side-effect of the 3D plot.\n",
    "targets = targets.reshape(observations,1)"
   ]
  },
  {
   "cell_type": "markdown",
   "metadata": {},
   "source": [
    "### Initializing Variables"
   ]
  },
  {
   "cell_type": "code",
   "execution_count": 43,
   "metadata": {},
   "outputs": [
    {
     "name": "stdout",
     "output_type": "stream",
     "text": [
      "weights [[-0.05328984]\n",
      " [-0.08114951]] \n",
      "\n",
      "biases [0.04680112]\n"
     ]
    }
   ],
   "source": [
    "# initialize the weights and biases randomly in some small initial range.\n",
    "# init_range is the variable that will measure that.\n",
    "# NB* High initial range values may cause the ML algorithm not to \"learn\" well\n",
    "\n",
    "init_range = 0.1 \n",
    "\n",
    "# Weights are of size k x m, where k and m are the number of input and output variables respectively\n",
    "# Here, the weights matrix is 2x1 since there are 2 inputs (x and z) and one output (y)\n",
    "\n",
    "weights = np.random.uniform(low=-init_range, high=init_range, size=(2, 1))\n",
    "\n",
    "# Biases are of size 1 since there is only 1 output. The bias is a scalar.\n",
    "biases = np.random.uniform(low=-init_range, high=init_range, size=1)\n",
    "\n",
    "#Print the weights to get a sense of how they were initialized.\n",
    "print (\"weights\", weights, \"\\n\")\n",
    "print (\"biases\", biases)"
   ]
  },
  {
   "cell_type": "markdown",
   "metadata": {},
   "source": [
    "### Setting the Learning Rate\n",
    "\n",
    "η(eta) "
   ]
  },
  {
   "cell_type": "code",
   "execution_count": 44,
   "metadata": {},
   "outputs": [],
   "source": [
    "# The value for η was randomly choosen \n",
    "\n",
    "learning_rate = 0.02"
   ]
  },
  {
   "cell_type": "code",
   "execution_count": 45,
   "metadata": {},
   "outputs": [
    {
     "name": "stdout",
     "output_type": "stream",
     "text": [
      "219549.0717281453\n",
      "4350328.369209354\n",
      "1495686746.4658086\n",
      "539883792185.5854\n",
      "194903640023584.4\n",
      "7.036225940920051e+16\n",
      "2.540151407032936e+19\n",
      "9.170213158087776e+21\n",
      "3.3105431877776446e+24\n",
      "1.195140833610277e+27\n",
      "4.314583834568613e+29\n",
      "1.5576100441055806e+32\n",
      "5.623135724146065e+34\n",
      "2.0300110089701223e+37\n",
      "7.328552783893025e+39\n",
      "2.6456844652065934e+42\n",
      "9.5511985733658e+44\n",
      "3.4480829209820886e+47\n",
      "1.2447941207214e+50\n",
      "4.4938374119530444e+52\n",
      "1.6223224667357367e+55\n",
      "5.856754361150045e+57\n",
      "2.1143497886624245e+60\n",
      "7.633024629598786e+62\n",
      "2.7556019968162384e+65\n",
      "9.948012397880574e+67\n",
      "3.5913368760338064e+70\n",
      "1.2965103018878565e+73\n",
      "4.680538253369677e+75\n",
      "1.6897234298375653e+78\n",
      "6.100078911408317e+80\n",
      "2.2021925048991935e+83\n",
      "7.950146053954172e+85\n",
      "2.8700861590706483e+88\n",
      "1.03613122382725e+91\n",
      "3.740542455831303e+93\n",
      "1.3503750820474492e+96\n",
      "4.874995762638373e+98\n",
      "1.7599246314371094e+101\n",
      "6.353512616517124e+103\n",
      "2.29368473212853e+106\n",
      "8.280442595994238e+108\n",
      "2.989326677076807e+111\n",
      "1.0791783022088703e+114\n",
      "3.8959469264071184e+116\n",
      "1.4064777268328896e+119\n",
      "5.077532198061299e+121\n",
      "1.8330424101634158e+124\n",
      "6.61747547113662e+126\n",
      "2.3889780928304207e+129\n",
      "8.624461628783963e+131\n",
      "3.113521158255624e+134\n",
      "1.1240138132856737e+137\n",
      "4.057807826701387e+139\n",
      "1.4649112105043262e+142\n",
      "5.288483206474864e+144\n",
      "1.9091979380469077e+147\n",
      "6.892404919013136e+149\n",
      "2.488230508788099e+152\n",
      "8.982773266534015e+154\n",
      "3.242875419820277e+157\n",
      "1.170712059231592e+160\n",
      "4.226393395359705e+162\n",
      "1.5257723700278845e+165\n",
      "5.508198379489422e+167\n",
      "1.9885174213277548e+170\n",
      "7.178756577918539e+172\n",
      "2.5916064627987226e+175\n",
      "9.355971309403988e+177\n",
      "3.3776038298600693e+180\n",
      "1.2193504291765663e+183\n",
      "4.401983015262849e+185\n",
      "1.589162065555535e+188\n",
      "5.7370418328384515e+190\n",
      "2.071132309606984e+193\n",
      "7.477004994707622e+195\n",
      "2.6992772712570525e+198\n",
      "9.744674227557934e+200\n",
      "3.5179296625948205e+203\n",
      "1.2700095274571271e+206\n",
      "4.5848676765248e+208\n",
      "1.6551853475722426e+211\n",
      "5.975392809797337e+213\n",
      "2.1571795136870195e+216\n",
      "7.787644431745374e+218\n",
      "2.81142136806395e+221\n",
      "1.0149526186103866e+224\n",
      "3.664085468388773e+226\n",
      "1.3227733071952875e+229\n",
      "4.775350458726542e+231\n",
      "1.72395163098745e+234\n",
      "6.223646309671794e+236\n",
      "2.2468016324625795e+239\n",
      "8.111189686006944e+241\n",
      "2.9282246003300085e+244\n",
      "1.0571198112614945e+247\n",
      "3.8163134591369684e+249\n",
      "1.3777292094270741e+252\n",
      "4.973747033184743e+254\n",
      "1.795574876459314e+257\n"
     ]
    }
   ],
   "source": [
    "for i in range (100):\n",
    "    # This is the linear model: y = xw + b equation\n",
    "    outputs = np.dot(inputs,weights) + biases\n",
    "    \n",
    "    # The change (Δ deltas) are the differences between the outputs and the targets\n",
    "    # Note that deltas here is a vector 1000 x 1\n",
    "    deltas = outputs - targets\n",
    "    \n",
    "    # Using the the L2-norm loss and futher divide by observations to get the mean loss\n",
    "    loss = np.sum(deltas ** 2) / 2 / observations\n",
    "    \n",
    "    print (loss) # See the value of loss function for each iteration\n",
    "    \n",
    "    # Scale the deltas the same way as the loss function so that learning rate is \n",
    "    # independent of the number of samples (observations).\n",
    "    deltas_scaled = deltas / observations\n",
    "    \n",
    "    # Applying the gradient descent update rules.\n",
    "    # Weights are 2x1, learning rate is 1x1 (scalar), inputs are 1000x2, and deltas_scaled are 1000x1\n",
    "    # This implies, the imputs must be Transpose to get an allowed operation.\n",
    "    weights = weights - learning_rate * np.dot(inputs.T,deltas_scaled)\n",
    "    biases = biases - learning_rate * np.sum(deltas_scaled)\n",
    "    \n",
    "    # The weights are updated in a linear algebraic way (a matrix minus another matrix)\n",
    "    # The biases, however, are just a single number here, so the deltas must be transform into a scalar.\n",
    "    # The two lines are both consistent with the gradient descent methodology. "
   ]
  },
  {
   "cell_type": "code",
   "execution_count": 21,
   "metadata": {},
   "outputs": [
    {
     "name": "stdout",
     "output_type": "stream",
     "text": [
      "weights [[2.19621445e+92 2.19621445e+92 2.19621445e+92 ... 2.19621445e+92\n",
      "  2.19621445e+92 2.19621445e+92]\n",
      " [5.53624742e+91 5.53624742e+91 5.53624742e+91 ... 5.53624742e+91\n",
      "  5.53624742e+91 5.53624742e+91]] \n",
      "\n",
      "biases [-1.26650402e+96]\n"
     ]
    }
   ],
   "source": [
    "# f(x,z) = 2x - 3z + 5 + noise\n",
    "\n",
    "print (\"weights\", weights, \"\\n\")\n",
    "print (\"biases\", biases)"
   ]
  },
  {
   "cell_type": "code",
   "execution_count": 46,
   "metadata": {},
   "outputs": [
    {
     "data": {
      "image/png": "[encoded data removed]",
      "text/plain": [
       "<Figure size 432x288 with 1 Axes>"
      ]
     },
     "metadata": {
      "needs_background": "light"
     },
     "output_type": "display_data"
    }
   ],
   "source": [
    "plt.plot(outputs,targets)\n",
    "plt.xlabel('outputs')\n",
    "plt.ylabel('targets')\n",
    "plt.show()"
   ]
  },
  {
   "cell_type": "code",
   "execution_count": null,
   "metadata": {},
   "outputs": [],
   "source": []
  }
 ],
 "metadata": {
  "kernelspec": {
   "display_name": "py3-TF2.0",
   "language": "python",
   "name": "py3-tf2.0"
  },
  "language_info": {
   "codemirror_mode": {
    "name": "ipython",
    "version": 3
   },
   "file_extension": ".py",
   "mimetype": "text/x-python",
   "name": "python",
   "nbconvert_exporter": "python",
   "pygments_lexer": "ipython3",
   "version": "3.9.1"
  },
  "nbTranslate": {
   "displayLangs": [
    "*"
   ],
   "hotkey": "alt-t",
   "langInMainMenu": true,
   "sourceLang": "en",
   "targetLang": "fr",
   "useGoogleTranslate": true
  },
  "toc": {
   "base_numbering": 1,
   "nav_menu": {},
   "number_sections": true,
   "sideBar": true,
   "skip_h1_title": false,
   "title_cell": "Table of Contents",
   "title_sidebar": "Contents",
   "toc_cell": false,
   "toc_position": {},
   "toc_section_display": true,
   "toc_window_display": false
  },
  "varInspector": {
   "cols": {
    "lenName": 16,
    "lenType": 16,
    "lenVar": 40
   },
   "kernels_config": {
    "python": {
     "delete_cmd_postfix": "",
     "delete_cmd_prefix": "del ",
     "library": "var_list.py",
     "varRefreshCmd": "print(var_dic_list())"
    },
    "r": {
     "delete_cmd_postfix": ") ",
     "delete_cmd_prefix": "rm(",
     "library": "var_list.r",
     "varRefreshCmd": "cat(var_dic_list()) "
    }
   },
   "types_to_exclude": [
    "module",
    "function",
    "builtin_function_or_method",
    "instance",
    "_Feature"
   ],
   "window_display": false
  }
 },
 "nbformat": 4,
 "nbformat_minor": 4
}
